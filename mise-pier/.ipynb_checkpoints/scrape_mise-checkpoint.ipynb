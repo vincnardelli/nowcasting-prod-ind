{
 "cells": [
  {
   "cell_type": "markdown",
   "metadata": {},
   "source": [
    "### Scraper Ministero dello Sviluppo Economico (MISE) - Consumi Petroliferi "
   ]
  },
  {
   "cell_type": "markdown",
   "metadata": {},
   "source": [
    "![alt text](scraper-image.png)"
   ]
  },
  {
   "cell_type": "code",
   "execution_count": 20,
   "metadata": {},
   "outputs": [],
   "source": [
    "# Libraries \n",
    "import requests\n",
    "import bs4\n",
    "import re\n",
    "import os\n",
    "import urllib\n",
    "import pandas as pd\n",
    "import os\n",
    "cwd = os.getcwd()\n",
    "pd.set_option('display.max_rows', None) # display all rows df "
   ]
  },
  {
   "cell_type": "code",
   "execution_count": 4,
   "metadata": {},
   "outputs": [
    {
     "data": {
      "text/plain": [
       "'/Users/simonetta/Desktop/Projects/nowcasting-prod-ind/mise/file.xls'"
      ]
     },
     "execution_count": 4,
     "metadata": {},
     "output_type": "execute_result"
    }
   ],
   "source": [
    "cwd + \"/file.xls\""
   ]
  },
  {
   "cell_type": "code",
   "execution_count": 5,
   "metadata": {},
   "outputs": [],
   "source": [
    "# Get request and parse \n",
    "res = requests.get(\"https://dgsaie.mise.gov.it/consumi_petroliferi.php\")\n",
    "res.raise_for_status()\n",
    "mise = bs4.BeautifulSoup(res.text, \"lxml\")"
   ]
  },
  {
   "cell_type": "code",
   "execution_count": 6,
   "metadata": {},
   "outputs": [
    {
     "data": {
      "text/plain": [
       "['https://dgsaie.mise.gov.it/pub/consumi_petroliferi/preconsuntivi/2020/Consumi_Petrolio_2020_03.xls',\n",
       " 'https://dgsaie.mise.gov.it/pub/consumi_petroliferi/preconsuntivi/2020/Consumi_Petrolio_2020_02.xls',\n",
       " 'https://dgsaie.mise.gov.it/pub/consumi_petroliferi/preconsuntivi/2020/Consumi_Petrolio_2020_01.xls',\n",
       " 'https://dgsaie.mise.gov.it/pub/consumi_petroliferi/preconsuntivi/2019/Consumi_Petrolio_2019_12.xls',\n",
       " 'https://dgsaie.mise.gov.it/pub/consumi_petroliferi/preconsuntivi/2019/Consumi_Petrolio_2019_11.xls',\n",
       " 'https://dgsaie.mise.gov.it/pub/consumi_petroliferi/preconsuntivi/2019/Consumi_Petrolio_2019_10.xls',\n",
       " 'https://dgsaie.mise.gov.it/pub/consumi_petroliferi/preconsuntivi/2019/Consumi_Petrolio_2019_09.xls',\n",
       " 'https://dgsaie.mise.gov.it/pub/consumi_petroliferi/preconsuntivi/2019/Consumi_Petrolio_2019_08.xls',\n",
       " 'https://dgsaie.mise.gov.it/pub/consumi_petroliferi/preconsuntivi/2019/Consumi_Petrolio_2019_07.xls',\n",
       " 'https://dgsaie.mise.gov.it/pub/consumi_petroliferi/preconsuntivi/2019/Consumi_Petrolio_2019_06.xls',\n",
       " 'https://dgsaie.mise.gov.it/pub/consumi_petroliferi/preconsuntivi/2019/Consumi_Petrolio_2019_05.xls',\n",
       " 'https://dgsaie.mise.gov.it/pub/consumi_petroliferi/preconsuntivi/2019/Consumi_Petrolio_2019_04.xlsx',\n",
       " 'https://dgsaie.mise.gov.it/pub/consumi_petroliferi/preconsuntivi/2019/Consumi_Petrolio_2019_03.xls',\n",
       " 'https://dgsaie.mise.gov.it/pub/consumi_petroliferi/preconsuntivi/2019/Consumi_Petrolio_2019_02.xls',\n",
       " 'https://dgsaie.mise.gov.it/pub/consumi_petroliferi/preconsuntivi/2019/Consumi_Petrolio_2019_01.xls',\n",
       " 'https://dgsaie.mise.gov.it/pub/consumi_petroliferi/definitivi/Consumi_Petroliferi_Definitivi_2018.xls',\n",
       " 'https://dgsaie.mise.gov.it/pub/consumi_petroliferi/definitivi/Consumi_Petroliferi_Definitivi_2017.xls',\n",
       " 'https://dgsaie.mise.gov.it/pub/consumi_petroliferi/definitivi/Consumi_Petroliferi_Definitivi_2016.xls',\n",
       " 'https://dgsaie.mise.gov.it/pub/consumi_petroliferi/definitivi/Consumi_Petroliferi_Definitivi_2015.xls',\n",
       " 'https://dgsaie.mise.gov.it/pub/consumi_petroliferi/definitivi/Consumi_Petroliferi_Definitivi_2014.xls',\n",
       " 'https://dgsaie.mise.gov.it/pub/consumi_petroliferi/definitivi/Consumi_Petroliferi_Definitivi_2013.xls',\n",
       " 'https://dgsaie.mise.gov.it/pub/consumi_petroliferi/definitivi/Consumi_Petroliferi_Definitivi_2012.xls',\n",
       " 'https://dgsaie.mise.gov.it/pub/consumi_petroliferi/definitivi/Consumi_Petroliferi_Definitivi_2011.xls',\n",
       " 'https://dgsaie.mise.gov.it/pub/consumi_petroliferi/definitivi/Consumi_Petroliferi_Definitivi_2010.xls',\n",
       " 'https://dgsaie.mise.gov.it/pub/consumi_petroliferi/definitivi/Consumi_Petroliferi_Definitivi_2009.xls',\n",
       " 'https://dgsaie.mise.gov.it/pub/consumi_petroliferi/definitivi/Consumi_Petroliferi_Definitivi_2008.xls',\n",
       " 'https://dgsaie.mise.gov.it/pub/consumi_petroliferi/definitivi/Consumi_Petroliferi_Definitivi_2007.xls',\n",
       " 'https://dgsaie.mise.gov.it/pub/consumi_petroliferi/definitivi/Consumi_Petroliferi_Definitivi_2006.xls',\n",
       " 'https://dgsaie.mise.gov.it/pub/consumi_petroliferi/definitivi/Consumi_Petroliferi_Definitivi_2005.xls',\n",
       " 'https://dgsaie.mise.gov.it/pub/consumi_petroliferi/definitivi/Consumi_Petroliferi_Definitivi_2004.xls',\n",
       " 'https://dgsaie.mise.gov.it/pub/consumi_petroliferi/definitivi/Consumi_Petroliferi_Definitivi_2003.xls',\n",
       " 'https://dgsaie.mise.gov.it/pub/consumi_petroliferi/definitivi/Consumi_Petroliferi_Definitivi_2002.xls']"
      ]
     },
     "execution_count": 6,
     "metadata": {},
     "output_type": "execute_result"
    }
   ],
   "source": [
    "# Link extraction \n",
    "links = []\n",
    "for link in mise.find_all('a',text=re.compile(\".xls\")):\n",
    "    links.append(link.get('href'))\n",
    "links"
   ]
  },
  {
   "cell_type": "code",
   "execution_count": 7,
   "metadata": {},
   "outputs": [],
   "source": [
    "# Write a txt file \n",
    "with open('mise_links.txt', 'w') as file_object:\n",
    "    for link in links:\n",
    "        file_object.write(link + '\\n')"
   ]
  },
  {
   "cell_type": "code",
   "execution_count": 8,
   "metadata": {},
   "outputs": [
    {
     "name": "stdout",
     "output_type": "stream",
     "text": [
      "https://dgsaie.mise.gov.it/pub/consumi_petroliferi/preconsuntivi/2020/Consumi_Petrolio_2020_03.xls\n",
      "https://dgsaie.mise.gov.it/pub/consumi_petroliferi/preconsuntivi/2020/Consumi_Petrolio_2020_02.xls\n",
      "https://dgsaie.mise.gov.it/pub/consumi_petroliferi/preconsuntivi/2020/Consumi_Petrolio_2020_01.xls\n",
      "https://dgsaie.mise.gov.it/pub/consumi_petroliferi/preconsuntivi/2019/Consumi_Petrolio_2019_12.xls\n",
      "https://dgsaie.mise.gov.it/pub/consumi_petroliferi/preconsuntivi/2019/Consumi_Petrolio_2019_11.xls\n",
      "https://dgsaie.mise.gov.it/pub/consumi_petroliferi/preconsuntivi/2019/Consumi_Petrolio_2019_10.xls\n",
      "https://dgsaie.mise.gov.it/pub/consumi_petroliferi/preconsuntivi/2019/Consumi_Petrolio_2019_09.xls\n",
      "https://dgsaie.mise.gov.it/pub/consumi_petroliferi/preconsuntivi/2019/Consumi_Petrolio_2019_08.xls\n",
      "https://dgsaie.mise.gov.it/pub/consumi_petroliferi/preconsuntivi/2019/Consumi_Petrolio_2019_07.xls\n",
      "https://dgsaie.mise.gov.it/pub/consumi_petroliferi/preconsuntivi/2019/Consumi_Petrolio_2019_06.xls\n",
      "https://dgsaie.mise.gov.it/pub/consumi_petroliferi/preconsuntivi/2019/Consumi_Petrolio_2019_05.xls\n",
      "https://dgsaie.mise.gov.it/pub/consumi_petroliferi/preconsuntivi/2019/Consumi_Petrolio_2019_04.xlsx\n",
      "https://dgsaie.mise.gov.it/pub/consumi_petroliferi/preconsuntivi/2019/Consumi_Petrolio_2019_03.xls\n",
      "https://dgsaie.mise.gov.it/pub/consumi_petroliferi/preconsuntivi/2019/Consumi_Petrolio_2019_02.xls\n",
      "https://dgsaie.mise.gov.it/pub/consumi_petroliferi/preconsuntivi/2019/Consumi_Petrolio_2019_01.xls\n",
      "https://dgsaie.mise.gov.it/pub/consumi_petroliferi/definitivi/Consumi_Petroliferi_Definitivi_2018.xls\n",
      "https://dgsaie.mise.gov.it/pub/consumi_petroliferi/definitivi/Consumi_Petroliferi_Definitivi_2017.xls\n",
      "https://dgsaie.mise.gov.it/pub/consumi_petroliferi/definitivi/Consumi_Petroliferi_Definitivi_2016.xls\n",
      "https://dgsaie.mise.gov.it/pub/consumi_petroliferi/definitivi/Consumi_Petroliferi_Definitivi_2015.xls\n",
      "https://dgsaie.mise.gov.it/pub/consumi_petroliferi/definitivi/Consumi_Petroliferi_Definitivi_2014.xls\n",
      "https://dgsaie.mise.gov.it/pub/consumi_petroliferi/definitivi/Consumi_Petroliferi_Definitivi_2013.xls\n",
      "https://dgsaie.mise.gov.it/pub/consumi_petroliferi/definitivi/Consumi_Petroliferi_Definitivi_2012.xls\n",
      "https://dgsaie.mise.gov.it/pub/consumi_petroliferi/definitivi/Consumi_Petroliferi_Definitivi_2011.xls\n",
      "https://dgsaie.mise.gov.it/pub/consumi_petroliferi/definitivi/Consumi_Petroliferi_Definitivi_2010.xls\n",
      "https://dgsaie.mise.gov.it/pub/consumi_petroliferi/definitivi/Consumi_Petroliferi_Definitivi_2009.xls\n",
      "https://dgsaie.mise.gov.it/pub/consumi_petroliferi/definitivi/Consumi_Petroliferi_Definitivi_2008.xls\n",
      "https://dgsaie.mise.gov.it/pub/consumi_petroliferi/definitivi/Consumi_Petroliferi_Definitivi_2007.xls\n",
      "https://dgsaie.mise.gov.it/pub/consumi_petroliferi/definitivi/Consumi_Petroliferi_Definitivi_2006.xls\n",
      "https://dgsaie.mise.gov.it/pub/consumi_petroliferi/definitivi/Consumi_Petroliferi_Definitivi_2005.xls\n",
      "https://dgsaie.mise.gov.it/pub/consumi_petroliferi/definitivi/Consumi_Petroliferi_Definitivi_2004.xls\n",
      "https://dgsaie.mise.gov.it/pub/consumi_petroliferi/definitivi/Consumi_Petroliferi_Definitivi_2003.xls\n",
      "https://dgsaie.mise.gov.it/pub/consumi_petroliferi/definitivi/Consumi_Petroliferi_Definitivi_2002.xls\n"
     ]
    }
   ],
   "source": [
    "#for link in links:\n",
    "#    print(link)\n",
    "#    urllib.request.urlretrieve(link, 'text.xls')"
   ]
  },
  {
   "cell_type": "code",
   "execution_count": 169,
   "metadata": {},
   "outputs": [],
   "source": [
    "ulr = links[3]\n",
    "ulr2 = links[4]"
   ]
  },
  {
   "cell_type": "code",
   "execution_count": 170,
   "metadata": {},
   "outputs": [],
   "source": [
    "def excel_to_pandas(URL, local_path):\n",
    "    resp = requests.get(URL)\n",
    "    with open(local_path, 'wb') as output:\n",
    "        output.write(resp.content)\n",
    "    df = pd.read_excel(local_path)\n",
    "    return df"
   ]
  },
  {
   "cell_type": "code",
   "execution_count": 187,
   "metadata": {},
   "outputs": [
    {
     "data": {
      "text/html": [
       "<div>\n",
       "<style scoped>\n",
       "    .dataframe tbody tr th:only-of-type {\n",
       "        vertical-align: middle;\n",
       "    }\n",
       "\n",
       "    .dataframe tbody tr th {\n",
       "        vertical-align: top;\n",
       "    }\n",
       "\n",
       "    .dataframe thead th {\n",
       "        text-align: right;\n",
       "    }\n",
       "</style>\n",
       "<table border=\"1\" class=\"dataframe\">\n",
       "  <thead>\n",
       "    <tr style=\"text-align: right;\">\n",
       "      <th></th>\n",
       "      <th>Mese</th>\n",
       "      <th>Anno</th>\n",
       "      <th>Consumi</th>\n",
       "    </tr>\n",
       "  </thead>\n",
       "  <tbody>\n",
       "    <tr>\n",
       "      <th>0</th>\n",
       "      <td>Dicembre</td>\n",
       "      <td>2019</td>\n",
       "      <td>5047</td>\n",
       "    </tr>\n",
       "  </tbody>\n",
       "</table>\n",
       "</div>"
      ],
      "text/plain": [
       "       Mese  Anno Consumi\n",
       "0  Dicembre  2019    5047"
      ]
     },
     "execution_count": 187,
     "metadata": {},
     "output_type": "execute_result"
    }
   ],
   "source": [
    "# Leggi contenuti in url \n",
    "df = excel_to_pandas(ulr,cwd+\"/download.xls\")\n",
    "# Prende consumi totali e header\n",
    "rows = [1,2,df[df.iloc[:,0]==\"TOTALE  CONSUMI\"].index.item()]\n",
    "df = df.iloc[rows]\n",
    "# Toglie data bimestrali \n",
    "df = df.iloc[:,[2]]\n",
    "# Crea df \n",
    "df = pd.DataFrame({\"Mese\": df.iloc[0],\n",
    "                   \"Anno\": df.iloc[1],\n",
    "                   \"Consumi\": df.iloc[2]}).reset_index(drop=True)\n",
    "df"
   ]
  },
  {
   "cell_type": "code",
   "execution_count": 192,
   "metadata": {},
   "outputs": [
    {
     "ename": "NameError",
     "evalue": "name 'tqdm' is not defined",
     "output_type": "error",
     "traceback": [
      "\u001b[0;31m---------------------------------------------------------------------------\u001b[0m",
      "\u001b[0;31mNameError\u001b[0m                                 Traceback (most recent call last)",
      "\u001b[0;32m<ipython-input-192-f10cef65761d>\u001b[0m in \u001b[0;36m<module>\u001b[0;34m\u001b[0m\n\u001b[1;32m      1\u001b[0m \u001b[0mdn\u001b[0m \u001b[0;34m=\u001b[0m \u001b[0;34m[\u001b[0m\u001b[0;34m]\u001b[0m\u001b[0;34m\u001b[0m\u001b[0;34m\u001b[0m\u001b[0m\n\u001b[0;32m----> 2\u001b[0;31m \u001b[0;32mfor\u001b[0m \u001b[0mlink\u001b[0m \u001b[0;32min\u001b[0m \u001b[0mtqdm\u001b[0m\u001b[0;34m(\u001b[0m\u001b[0mlinks\u001b[0m\u001b[0;34m)\u001b[0m\u001b[0;34m:\u001b[0m\u001b[0;34m\u001b[0m\u001b[0;34m\u001b[0m\u001b[0m\n\u001b[0m\u001b[1;32m      3\u001b[0m     \u001b[0mprint\u001b[0m\u001b[0;34m(\u001b[0m\u001b[0mlink\u001b[0m\u001b[0;34m)\u001b[0m\u001b[0;34m\u001b[0m\u001b[0;34m\u001b[0m\u001b[0m\n",
      "\u001b[0;31mNameError\u001b[0m: name 'tqdm' is not defined"
     ]
    }
   ],
   "source": [
    "dn = []\n",
    "for link in tqdm(links):\n",
    "    print(link)"
   ]
  },
  {
   "cell_type": "code",
   "execution_count": 190,
   "metadata": {},
   "outputs": [
    {
     "data": {
      "text/html": [
       "<div>\n",
       "<style scoped>\n",
       "    .dataframe tbody tr th:only-of-type {\n",
       "        vertical-align: middle;\n",
       "    }\n",
       "\n",
       "    .dataframe tbody tr th {\n",
       "        vertical-align: top;\n",
       "    }\n",
       "\n",
       "    .dataframe thead th {\n",
       "        text-align: right;\n",
       "    }\n",
       "</style>\n",
       "<table border=\"1\" class=\"dataframe\">\n",
       "  <thead>\n",
       "    <tr style=\"text-align: right;\">\n",
       "      <th></th>\n",
       "      <th>Mese</th>\n",
       "      <th>Anno</th>\n",
       "      <th>Consumi</th>\n",
       "    </tr>\n",
       "  </thead>\n",
       "  <tbody>\n",
       "    <tr>\n",
       "      <th>0</th>\n",
       "      <td>Dicembre</td>\n",
       "      <td>2019</td>\n",
       "      <td>5047</td>\n",
       "    </tr>\n",
       "    <tr>\n",
       "      <th>0</th>\n",
       "      <td>Novembre</td>\n",
       "      <td>2019</td>\n",
       "      <td>4814</td>\n",
       "    </tr>\n",
       "  </tbody>\n",
       "</table>\n",
       "</div>"
      ],
      "text/plain": [
       "       Mese  Anno Consumi\n",
       "0  Dicembre  2019    5047\n",
       "0  Novembre  2019    4814"
      ]
     },
     "execution_count": 190,
     "metadata": {},
     "output_type": "execute_result"
    }
   ],
   "source": [
    "pd.concat([df,df2],axis=0)"
   ]
  },
  {
   "cell_type": "code",
   "execution_count": 113,
   "metadata": {},
   "outputs": [
    {
     "data": {
      "text/html": [
       "<div>\n",
       "<style scoped>\n",
       "    .dataframe tbody tr th:only-of-type {\n",
       "        vertical-align: middle;\n",
       "    }\n",
       "\n",
       "    .dataframe tbody tr th {\n",
       "        vertical-align: top;\n",
       "    }\n",
       "\n",
       "    .dataframe thead th {\n",
       "        text-align: right;\n",
       "    }\n",
       "</style>\n",
       "<table border=\"1\" class=\"dataframe\">\n",
       "  <thead>\n",
       "    <tr style=\"text-align: right;\">\n",
       "      <th></th>\n",
       "      <th>C O N S U M I    P E T R O L I F E R I   ( 000/tonn )</th>\n",
       "      <th>Unnamed: 1</th>\n",
       "      <th>Unnamed: 2</th>\n",
       "      <th>Unnamed: 3</th>\n",
       "      <th>Unnamed: 4</th>\n",
       "    </tr>\n",
       "  </thead>\n",
       "  <tbody>\n",
       "    <tr>\n",
       "      <th>1</th>\n",
       "      <td>NaN</td>\n",
       "      <td>NaN</td>\n",
       "      <td>Febbraio</td>\n",
       "      <td>Febbraio</td>\n",
       "      <td>VAR. %</td>\n",
       "    </tr>\n",
       "    <tr>\n",
       "      <th>2</th>\n",
       "      <td>PRODOTTO</td>\n",
       "      <td>NaN</td>\n",
       "      <td>2020</td>\n",
       "      <td>2019</td>\n",
       "      <td>2020/2019</td>\n",
       "    </tr>\n",
       "    <tr>\n",
       "      <th>56</th>\n",
       "      <td>TOTALE  CONSUMI</td>\n",
       "      <td>NaN</td>\n",
       "      <td>4636</td>\n",
       "      <td>4470</td>\n",
       "      <td>3.71365</td>\n",
       "    </tr>\n",
       "  </tbody>\n",
       "</table>\n",
       "</div>"
      ],
      "text/plain": [
       "   C O N S U M I    P E T R O L I F E R I   ( 000/tonn ) Unnamed: 1  \\\n",
       "1                                                 NaN           NaN   \n",
       "2                                            PRODOTTO           NaN   \n",
       "56                                    TOTALE  CONSUMI           NaN   \n",
       "\n",
       "   Unnamed: 2 Unnamed: 3 Unnamed: 4  \n",
       "1    Febbraio   Febbraio     VAR. %  \n",
       "2        2020       2019  2020/2019  \n",
       "56       4636       4470    3.71365  "
      ]
     },
     "execution_count": 113,
     "metadata": {},
     "output_type": "execute_result"
    }
   ],
   "source": [
    "df.iloc[0,3] = df.iloc[0,2]\n",
    "df"
   ]
  },
  {
   "cell_type": "code",
   "execution_count": null,
   "metadata": {},
   "outputs": [],
   "source": [
    "with pd.ExcelWriter(r'C:\\Projects\\BOXES\\BOXED.xlsx') as writer:\n",
    "\n",
    "    for B in BOX:\n",
    "\n",
    "        filename = B+\".xls\"\n",
    "\n",
    "        #create data frame\n",
    "        BDF = pd.read_excel(r'C:\\Projects\\BOXES\\\\' + filename)\n",
    "        #clean data frame\n",
    "        BDF = BDF.dropna(how=\"all\")\n",
    "        BDF['Total Cost'] = BDF['Total Cost'].str.replace('.', '')\n",
    "        BDF.columns = ['LVL', 'PN', 'Leadtime', 'Description', 'Ext QTY']\n",
    "        BDF.PN = BDF.PN.str.strip()\n",
    "\n",
    "        sheetname=B\n",
    "        #save to sheet\n",
    "        BDF.to_excel(writer, sheet_name=B, index=False)\n",
    "        #delete data frame before repeating \n",
    "        del(BDF)\n",
    "        del(B)"
   ]
  },
  {
   "cell_type": "code",
   "execution_count": 33,
   "metadata": {},
   "outputs": [
    {
     "ename": "MissingSchema",
     "evalue": "Invalid URL 't': No schema supplied. Perhaps you meant http://t?",
     "output_type": "error",
     "traceback": [
      "\u001b[0;31m---------------------------------------------------------------------------\u001b[0m",
      "\u001b[0;31mMissingSchema\u001b[0m                             Traceback (most recent call last)",
      "\u001b[0;32m<ipython-input-33-df84542ffeb5>\u001b[0m in \u001b[0;36m<module>\u001b[0;34m\u001b[0m\n\u001b[0;32m----> 1\u001b[0;31m \u001b[0mprint\u001b[0m\u001b[0;34m(\u001b[0m\u001b[0mexcel_to_pandas\u001b[0m\u001b[0;34m(\u001b[0m\u001b[0mlink\u001b[0m\u001b[0;34m[\u001b[0m\u001b[0;36m1\u001b[0m\u001b[0;34m]\u001b[0m\u001b[0;34m,\u001b[0m\u001b[0;34m'~/Users/simonetta/Desktop/Projects/nowcasting-prod-ind/downloaded.xls'\u001b[0m\u001b[0;34m)\u001b[0m\u001b[0;34m)\u001b[0m\u001b[0;34m\u001b[0m\u001b[0;34m\u001b[0m\u001b[0m\n\u001b[0m",
      "\u001b[0;32m<ipython-input-24-ea86abbc6a58>\u001b[0m in \u001b[0;36mexcel_to_pandas\u001b[0;34m(URL, local_path)\u001b[0m\n\u001b[1;32m      1\u001b[0m \u001b[0;32mdef\u001b[0m \u001b[0mexcel_to_pandas\u001b[0m\u001b[0;34m(\u001b[0m\u001b[0mURL\u001b[0m\u001b[0;34m,\u001b[0m \u001b[0mlocal_path\u001b[0m\u001b[0;34m)\u001b[0m\u001b[0;34m:\u001b[0m\u001b[0;34m\u001b[0m\u001b[0;34m\u001b[0m\u001b[0m\n\u001b[0;32m----> 2\u001b[0;31m     \u001b[0mresp\u001b[0m \u001b[0;34m=\u001b[0m \u001b[0mrequests\u001b[0m\u001b[0;34m.\u001b[0m\u001b[0mget\u001b[0m\u001b[0;34m(\u001b[0m\u001b[0mURL\u001b[0m\u001b[0;34m)\u001b[0m\u001b[0;34m\u001b[0m\u001b[0;34m\u001b[0m\u001b[0m\n\u001b[0m\u001b[1;32m      3\u001b[0m     \u001b[0;32mwith\u001b[0m \u001b[0mopen\u001b[0m\u001b[0;34m(\u001b[0m\u001b[0mlocal_path\u001b[0m\u001b[0;34m,\u001b[0m \u001b[0;34m'wb'\u001b[0m\u001b[0;34m)\u001b[0m \u001b[0;32mas\u001b[0m \u001b[0moutput\u001b[0m\u001b[0;34m:\u001b[0m\u001b[0;34m\u001b[0m\u001b[0;34m\u001b[0m\u001b[0m\n\u001b[1;32m      4\u001b[0m         \u001b[0moutput\u001b[0m\u001b[0;34m.\u001b[0m\u001b[0mwrite\u001b[0m\u001b[0;34m(\u001b[0m\u001b[0mresp\u001b[0m\u001b[0;34m.\u001b[0m\u001b[0mcontent\u001b[0m\u001b[0;34m)\u001b[0m\u001b[0;34m\u001b[0m\u001b[0;34m\u001b[0m\u001b[0m\n\u001b[1;32m      5\u001b[0m     \u001b[0mdf\u001b[0m \u001b[0;34m=\u001b[0m \u001b[0mpd\u001b[0m\u001b[0;34m.\u001b[0m\u001b[0mread_excel\u001b[0m\u001b[0;34m(\u001b[0m\u001b[0mlocal_path\u001b[0m\u001b[0;34m)\u001b[0m\u001b[0;34m\u001b[0m\u001b[0;34m\u001b[0m\u001b[0m\n",
      "\u001b[0;32m~/opt/anaconda3/envs/scraping/lib/python3.8/site-packages/requests/api.py\u001b[0m in \u001b[0;36mget\u001b[0;34m(url, params, **kwargs)\u001b[0m\n\u001b[1;32m     74\u001b[0m \u001b[0;34m\u001b[0m\u001b[0m\n\u001b[1;32m     75\u001b[0m     \u001b[0mkwargs\u001b[0m\u001b[0;34m.\u001b[0m\u001b[0msetdefault\u001b[0m\u001b[0;34m(\u001b[0m\u001b[0;34m'allow_redirects'\u001b[0m\u001b[0;34m,\u001b[0m \u001b[0;32mTrue\u001b[0m\u001b[0;34m)\u001b[0m\u001b[0;34m\u001b[0m\u001b[0;34m\u001b[0m\u001b[0m\n\u001b[0;32m---> 76\u001b[0;31m     \u001b[0;32mreturn\u001b[0m \u001b[0mrequest\u001b[0m\u001b[0;34m(\u001b[0m\u001b[0;34m'get'\u001b[0m\u001b[0;34m,\u001b[0m \u001b[0murl\u001b[0m\u001b[0;34m,\u001b[0m \u001b[0mparams\u001b[0m\u001b[0;34m=\u001b[0m\u001b[0mparams\u001b[0m\u001b[0;34m,\u001b[0m \u001b[0;34m**\u001b[0m\u001b[0mkwargs\u001b[0m\u001b[0;34m)\u001b[0m\u001b[0;34m\u001b[0m\u001b[0;34m\u001b[0m\u001b[0m\n\u001b[0m\u001b[1;32m     77\u001b[0m \u001b[0;34m\u001b[0m\u001b[0m\n\u001b[1;32m     78\u001b[0m \u001b[0;34m\u001b[0m\u001b[0m\n",
      "\u001b[0;32m~/opt/anaconda3/envs/scraping/lib/python3.8/site-packages/requests/api.py\u001b[0m in \u001b[0;36mrequest\u001b[0;34m(method, url, **kwargs)\u001b[0m\n\u001b[1;32m     59\u001b[0m     \u001b[0;31m# cases, and look like a memory leak in others.\u001b[0m\u001b[0;34m\u001b[0m\u001b[0;34m\u001b[0m\u001b[0;34m\u001b[0m\u001b[0m\n\u001b[1;32m     60\u001b[0m     \u001b[0;32mwith\u001b[0m \u001b[0msessions\u001b[0m\u001b[0;34m.\u001b[0m\u001b[0mSession\u001b[0m\u001b[0;34m(\u001b[0m\u001b[0;34m)\u001b[0m \u001b[0;32mas\u001b[0m \u001b[0msession\u001b[0m\u001b[0;34m:\u001b[0m\u001b[0;34m\u001b[0m\u001b[0;34m\u001b[0m\u001b[0m\n\u001b[0;32m---> 61\u001b[0;31m         \u001b[0;32mreturn\u001b[0m \u001b[0msession\u001b[0m\u001b[0;34m.\u001b[0m\u001b[0mrequest\u001b[0m\u001b[0;34m(\u001b[0m\u001b[0mmethod\u001b[0m\u001b[0;34m=\u001b[0m\u001b[0mmethod\u001b[0m\u001b[0;34m,\u001b[0m \u001b[0murl\u001b[0m\u001b[0;34m=\u001b[0m\u001b[0murl\u001b[0m\u001b[0;34m,\u001b[0m \u001b[0;34m**\u001b[0m\u001b[0mkwargs\u001b[0m\u001b[0;34m)\u001b[0m\u001b[0;34m\u001b[0m\u001b[0;34m\u001b[0m\u001b[0m\n\u001b[0m\u001b[1;32m     62\u001b[0m \u001b[0;34m\u001b[0m\u001b[0m\n\u001b[1;32m     63\u001b[0m \u001b[0;34m\u001b[0m\u001b[0m\n",
      "\u001b[0;32m~/opt/anaconda3/envs/scraping/lib/python3.8/site-packages/requests/sessions.py\u001b[0m in \u001b[0;36mrequest\u001b[0;34m(self, method, url, params, data, headers, cookies, files, auth, timeout, allow_redirects, proxies, hooks, stream, verify, cert, json)\u001b[0m\n\u001b[1;32m    514\u001b[0m             \u001b[0mhooks\u001b[0m\u001b[0;34m=\u001b[0m\u001b[0mhooks\u001b[0m\u001b[0;34m,\u001b[0m\u001b[0;34m\u001b[0m\u001b[0;34m\u001b[0m\u001b[0m\n\u001b[1;32m    515\u001b[0m         )\n\u001b[0;32m--> 516\u001b[0;31m         \u001b[0mprep\u001b[0m \u001b[0;34m=\u001b[0m \u001b[0mself\u001b[0m\u001b[0;34m.\u001b[0m\u001b[0mprepare_request\u001b[0m\u001b[0;34m(\u001b[0m\u001b[0mreq\u001b[0m\u001b[0;34m)\u001b[0m\u001b[0;34m\u001b[0m\u001b[0;34m\u001b[0m\u001b[0m\n\u001b[0m\u001b[1;32m    517\u001b[0m \u001b[0;34m\u001b[0m\u001b[0m\n\u001b[1;32m    518\u001b[0m         \u001b[0mproxies\u001b[0m \u001b[0;34m=\u001b[0m \u001b[0mproxies\u001b[0m \u001b[0;32mor\u001b[0m \u001b[0;34m{\u001b[0m\u001b[0;34m}\u001b[0m\u001b[0;34m\u001b[0m\u001b[0;34m\u001b[0m\u001b[0m\n",
      "\u001b[0;32m~/opt/anaconda3/envs/scraping/lib/python3.8/site-packages/requests/sessions.py\u001b[0m in \u001b[0;36mprepare_request\u001b[0;34m(self, request)\u001b[0m\n\u001b[1;32m    447\u001b[0m \u001b[0;34m\u001b[0m\u001b[0m\n\u001b[1;32m    448\u001b[0m         \u001b[0mp\u001b[0m \u001b[0;34m=\u001b[0m \u001b[0mPreparedRequest\u001b[0m\u001b[0;34m(\u001b[0m\u001b[0;34m)\u001b[0m\u001b[0;34m\u001b[0m\u001b[0;34m\u001b[0m\u001b[0m\n\u001b[0;32m--> 449\u001b[0;31m         p.prepare(\n\u001b[0m\u001b[1;32m    450\u001b[0m             \u001b[0mmethod\u001b[0m\u001b[0;34m=\u001b[0m\u001b[0mrequest\u001b[0m\u001b[0;34m.\u001b[0m\u001b[0mmethod\u001b[0m\u001b[0;34m.\u001b[0m\u001b[0mupper\u001b[0m\u001b[0;34m(\u001b[0m\u001b[0;34m)\u001b[0m\u001b[0;34m,\u001b[0m\u001b[0;34m\u001b[0m\u001b[0;34m\u001b[0m\u001b[0m\n\u001b[1;32m    451\u001b[0m             \u001b[0murl\u001b[0m\u001b[0;34m=\u001b[0m\u001b[0mrequest\u001b[0m\u001b[0;34m.\u001b[0m\u001b[0murl\u001b[0m\u001b[0;34m,\u001b[0m\u001b[0;34m\u001b[0m\u001b[0;34m\u001b[0m\u001b[0m\n",
      "\u001b[0;32m~/opt/anaconda3/envs/scraping/lib/python3.8/site-packages/requests/models.py\u001b[0m in \u001b[0;36mprepare\u001b[0;34m(self, method, url, headers, files, data, params, auth, cookies, hooks, json)\u001b[0m\n\u001b[1;32m    312\u001b[0m \u001b[0;34m\u001b[0m\u001b[0m\n\u001b[1;32m    313\u001b[0m         \u001b[0mself\u001b[0m\u001b[0;34m.\u001b[0m\u001b[0mprepare_method\u001b[0m\u001b[0;34m(\u001b[0m\u001b[0mmethod\u001b[0m\u001b[0;34m)\u001b[0m\u001b[0;34m\u001b[0m\u001b[0;34m\u001b[0m\u001b[0m\n\u001b[0;32m--> 314\u001b[0;31m         \u001b[0mself\u001b[0m\u001b[0;34m.\u001b[0m\u001b[0mprepare_url\u001b[0m\u001b[0;34m(\u001b[0m\u001b[0murl\u001b[0m\u001b[0;34m,\u001b[0m \u001b[0mparams\u001b[0m\u001b[0;34m)\u001b[0m\u001b[0;34m\u001b[0m\u001b[0;34m\u001b[0m\u001b[0m\n\u001b[0m\u001b[1;32m    315\u001b[0m         \u001b[0mself\u001b[0m\u001b[0;34m.\u001b[0m\u001b[0mprepare_headers\u001b[0m\u001b[0;34m(\u001b[0m\u001b[0mheaders\u001b[0m\u001b[0;34m)\u001b[0m\u001b[0;34m\u001b[0m\u001b[0;34m\u001b[0m\u001b[0m\n\u001b[1;32m    316\u001b[0m         \u001b[0mself\u001b[0m\u001b[0;34m.\u001b[0m\u001b[0mprepare_cookies\u001b[0m\u001b[0;34m(\u001b[0m\u001b[0mcookies\u001b[0m\u001b[0;34m)\u001b[0m\u001b[0;34m\u001b[0m\u001b[0;34m\u001b[0m\u001b[0m\n",
      "\u001b[0;32m~/opt/anaconda3/envs/scraping/lib/python3.8/site-packages/requests/models.py\u001b[0m in \u001b[0;36mprepare_url\u001b[0;34m(self, url, params)\u001b[0m\n\u001b[1;32m    386\u001b[0m             \u001b[0merror\u001b[0m \u001b[0;34m=\u001b[0m \u001b[0merror\u001b[0m\u001b[0;34m.\u001b[0m\u001b[0mformat\u001b[0m\u001b[0;34m(\u001b[0m\u001b[0mto_native_string\u001b[0m\u001b[0;34m(\u001b[0m\u001b[0murl\u001b[0m\u001b[0;34m,\u001b[0m \u001b[0;34m'utf8'\u001b[0m\u001b[0;34m)\u001b[0m\u001b[0;34m)\u001b[0m\u001b[0;34m\u001b[0m\u001b[0;34m\u001b[0m\u001b[0m\n\u001b[1;32m    387\u001b[0m \u001b[0;34m\u001b[0m\u001b[0m\n\u001b[0;32m--> 388\u001b[0;31m             \u001b[0;32mraise\u001b[0m \u001b[0mMissingSchema\u001b[0m\u001b[0;34m(\u001b[0m\u001b[0merror\u001b[0m\u001b[0;34m)\u001b[0m\u001b[0;34m\u001b[0m\u001b[0;34m\u001b[0m\u001b[0m\n\u001b[0m\u001b[1;32m    389\u001b[0m \u001b[0;34m\u001b[0m\u001b[0m\n\u001b[1;32m    390\u001b[0m         \u001b[0;32mif\u001b[0m \u001b[0;32mnot\u001b[0m \u001b[0mhost\u001b[0m\u001b[0;34m:\u001b[0m\u001b[0;34m\u001b[0m\u001b[0;34m\u001b[0m\u001b[0m\n",
      "\u001b[0;31mMissingSchema\u001b[0m: Invalid URL 't': No schema supplied. Perhaps you meant http://t?"
     ]
    }
   ],
   "source": [
    "print(excel_to_pandas(link[1],'~/Users/simonetta/Desktop/Projects/nowcasting-prod-ind/downloaded.xls'))"
   ]
  },
  {
   "cell_type": "markdown",
   "metadata": {},
   "source": [
    "*** "
   ]
  },
  {
   "cell_type": "code",
   "execution_count": 15,
   "metadata": {},
   "outputs": [
    {
     "data": {
      "text/plain": [
       "['https://www.governo.it',\n",
       " 'https://dgsaie.mise.gov.it/consumi_petroliferi.php?lang=it_IT',\n",
       " 'https://dgsaie.mise.gov.it/consumi_petroliferi.php?lang=en_US',\n",
       " 'https://dgsaie.mise.gov.it/pubblicazioni.php',\n",
       " 'https://dgsaie.mise.gov.it/pubblicazioni.php',\n",
       " '#',\n",
       " 'https://dgsaie.mise.gov.it/prezzi_carburanti_settimanali.php',\n",
       " 'https://dgsaie.mise.gov.it/prezzi_carburanti_mensili.php',\n",
       " 'https://dgsaie.mise.gov.it/prezzi_carburanti_annuali.php',\n",
       " 'https://dgsaie.mise.gov.it/consumi_petroliferi.php',\n",
       " 'https://dgsaie.mise.gov.it/bollettino_petrolifero.php',\n",
       " 'https://dgsaie.mise.gov.it/gas_naturale_bilancio.php',\n",
       " 'https://dgsaie.mise.gov.it/gas_naturale_consumi_regionali.php',\n",
       " 'https://dgsaie.mise.gov.it/gas_naturale_consumi_provinciali.php',\n",
       " 'https://dgsaie.mise.gov.it/gas_naturale_importazioni.php',\n",
       " 'https://dgsaie.mise.gov.it/bollettino_carbone.php',\n",
       " 'https://dgsaie.mise.gov.it/altre_pubblicazioni.php',\n",
       " 'https://dgsaie.mise.gov.it/open_data.php',\n",
       " '#',\n",
       " 'https://dgsaie.mise.gov.it/app/prezzi_settimanali/prezzi_login.php',\n",
       " 'https://dgsaie.mise.gov.it/questionario_petrolifero.php',\n",
       " 'https://dgsaie.mise.gov.it/logistica_petrolifera.php',\n",
       " 'https://dgsaiegpl.mise.gov.it/gpl',\n",
       " 'https://mise.ocsit.it/scorte',\n",
       " 'https://dgsaie.mise.gov.it/pub/consumi_petroliferi/preconsuntivi/2020/Consumi_Petrolio_2020_03.xls',\n",
       " 'https://dgsaie.mise.gov.it/pub/consumi_petroliferi/preconsuntivi/2020/Consumi_Petrolio_2020_02.xls',\n",
       " 'https://dgsaie.mise.gov.it/pub/consumi_petroliferi/preconsuntivi/2020/Consumi_Petrolio_2020_01.xls',\n",
       " 'https://dgsaie.mise.gov.it/pub/consumi_petroliferi/preconsuntivi/2019/Consumi_Petrolio_2019_12.xls',\n",
       " 'https://dgsaie.mise.gov.it/pub/consumi_petroliferi/preconsuntivi/2019/Consumi_Petrolio_2019_11.xls',\n",
       " 'https://dgsaie.mise.gov.it/pub/consumi_petroliferi/preconsuntivi/2019/Consumi_Petrolio_2019_10.xls',\n",
       " 'https://dgsaie.mise.gov.it/pub/consumi_petroliferi/preconsuntivi/2019/Consumi_Petrolio_2019_09.xls',\n",
       " 'https://dgsaie.mise.gov.it/pub/consumi_petroliferi/preconsuntivi/2019/Consumi_Petrolio_2019_08.xls',\n",
       " 'https://dgsaie.mise.gov.it/pub/consumi_petroliferi/preconsuntivi/2019/Consumi_Petrolio_2019_07.xls',\n",
       " 'https://dgsaie.mise.gov.it/pub/consumi_petroliferi/preconsuntivi/2019/Consumi_Petrolio_2019_06.xls',\n",
       " 'https://dgsaie.mise.gov.it/pub/consumi_petroliferi/preconsuntivi/2019/Consumi_Petrolio_2019_05.xls',\n",
       " 'https://dgsaie.mise.gov.it/pub/consumi_petroliferi/preconsuntivi/2019/Consumi_Petrolio_2019_04.xlsx',\n",
       " 'https://dgsaie.mise.gov.it/pub/consumi_petroliferi/preconsuntivi/2019/Consumi_Petrolio_2019_03.xls',\n",
       " 'https://dgsaie.mise.gov.it/pub/consumi_petroliferi/preconsuntivi/2019/Consumi_Petrolio_2019_02.xls',\n",
       " 'https://dgsaie.mise.gov.it/pub/consumi_petroliferi/preconsuntivi/2019/Consumi_Petrolio_2019_01.xls',\n",
       " 'https://dgsaie.mise.gov.it/bollettino_petrolifero.php',\n",
       " 'https://dgsaie.mise.gov.it/pub/consumi_petroliferi/definitivi/Consumi_Petroliferi_Definitivi_2018.xls',\n",
       " 'https://dgsaie.mise.gov.it/pub/consumi_petroliferi/definitivi/Consumi_Petroliferi_Definitivi_2017.xls',\n",
       " 'https://dgsaie.mise.gov.it/pub/consumi_petroliferi/definitivi/Consumi_Petroliferi_Definitivi_2016.xls',\n",
       " 'https://dgsaie.mise.gov.it/pub/consumi_petroliferi/definitivi/Consumi_Petroliferi_Definitivi_2015.xls',\n",
       " 'https://dgsaie.mise.gov.it/pub/consumi_petroliferi/definitivi/Consumi_Petroliferi_Definitivi_2014.xls',\n",
       " 'https://dgsaie.mise.gov.it/pub/consumi_petroliferi/definitivi/Consumi_Petroliferi_Definitivi_2013.xls',\n",
       " 'https://dgsaie.mise.gov.it/pub/consumi_petroliferi/definitivi/Consumi_Petroliferi_Definitivi_2012.xls',\n",
       " 'https://dgsaie.mise.gov.it/pub/consumi_petroliferi/definitivi/Consumi_Petroliferi_Definitivi_2011.xls',\n",
       " 'https://dgsaie.mise.gov.it/pub/consumi_petroliferi/definitivi/Consumi_Petroliferi_Definitivi_2010.xls',\n",
       " 'https://dgsaie.mise.gov.it/pub/consumi_petroliferi/definitivi/Consumi_Petroliferi_Definitivi_2009.xls',\n",
       " 'https://dgsaie.mise.gov.it/pub/consumi_petroliferi/definitivi/Consumi_Petroliferi_Definitivi_2008.xls',\n",
       " 'https://dgsaie.mise.gov.it/pub/consumi_petroliferi/definitivi/Consumi_Petroliferi_Definitivi_2007.xls',\n",
       " 'https://dgsaie.mise.gov.it/pub/consumi_petroliferi/definitivi/Consumi_Petroliferi_Definitivi_2006.xls',\n",
       " 'https://dgsaie.mise.gov.it/pub/consumi_petroliferi/definitivi/Consumi_Petroliferi_Definitivi_2005.xls',\n",
       " 'https://dgsaie.mise.gov.it/pub/consumi_petroliferi/definitivi/Consumi_Petroliferi_Definitivi_2004.xls',\n",
       " 'https://dgsaie.mise.gov.it/pub/consumi_petroliferi/definitivi/Consumi_Petroliferi_Definitivi_2003.xls',\n",
       " 'https://dgsaie.mise.gov.it/pub/consumi_petroliferi/definitivi/Consumi_Petroliferi_Definitivi_2002.xls',\n",
       " 'https://dgsaie.mise.gov.it/prezzi_carburanti_mensili.php',\n",
       " 'https://dgsaie.mise.gov.it/gas_naturale_bilancio.php',\n",
       " 'https://dgsaie.mise.gov.it/bollettino_petrolifero.php',\n",
       " 'https://dgsaie.mise.gov.it/bollettino_carbone.php',\n",
       " 'https://dgsaie.mise.gov.it/ben.php',\n",
       " 'https://dgsaie.mise.gov.it/situazione_energetica.php',\n",
       " 'https://dgsaie.mise.gov.it/prezzi_carburanti_settimanali.php',\n",
       " 'mailto:dgsaie.statistiche@mise.gov.it',\n",
       " 'https://www.mise.gov.it/index.php/it/accessibilita',\n",
       " 'https://www.mise.gov.it/index.php/it/note',\n",
       " 'https://www.mise.gov.it/index.php/it/privacy-sito']"
      ]
     },
     "execution_count": 15,
     "metadata": {},
     "output_type": "execute_result"
    }
   ],
   "source": [
    "links = list()\n",
    "for link in mise.find_all('a', href = True):\n",
    "    links.append(link.get('href'))\n",
    "links"
   ]
  },
  {
   "cell_type": "code",
   "execution_count": 16,
   "metadata": {},
   "outputs": [
    {
     "data": {
      "text/plain": [
       "[None,\n",
       " None,\n",
       " None,\n",
       " None,\n",
       " None,\n",
       " None,\n",
       " None,\n",
       " None,\n",
       " None,\n",
       " None,\n",
       " None,\n",
       " None,\n",
       " None,\n",
       " None,\n",
       " None,\n",
       " None,\n",
       " None,\n",
       " None,\n",
       " None,\n",
       " None,\n",
       " None,\n",
       " None,\n",
       " None,\n",
       " None,\n",
       " <re.Match object; span=(95, 98), match='xls'>,\n",
       " <re.Match object; span=(95, 98), match='xls'>,\n",
       " <re.Match object; span=(95, 98), match='xls'>,\n",
       " <re.Match object; span=(95, 98), match='xls'>,\n",
       " <re.Match object; span=(95, 98), match='xls'>,\n",
       " <re.Match object; span=(95, 98), match='xls'>,\n",
       " <re.Match object; span=(95, 98), match='xls'>,\n",
       " <re.Match object; span=(95, 98), match='xls'>,\n",
       " <re.Match object; span=(95, 98), match='xls'>,\n",
       " <re.Match object; span=(95, 98), match='xls'>,\n",
       " <re.Match object; span=(95, 98), match='xls'>,\n",
       " <re.Match object; span=(95, 98), match='xls'>,\n",
       " <re.Match object; span=(95, 98), match='xls'>,\n",
       " <re.Match object; span=(95, 98), match='xls'>,\n",
       " <re.Match object; span=(95, 98), match='xls'>,\n",
       " None,\n",
       " <re.Match object; span=(98, 101), match='xls'>,\n",
       " <re.Match object; span=(98, 101), match='xls'>,\n",
       " <re.Match object; span=(98, 101), match='xls'>,\n",
       " <re.Match object; span=(98, 101), match='xls'>,\n",
       " <re.Match object; span=(98, 101), match='xls'>,\n",
       " <re.Match object; span=(98, 101), match='xls'>,\n",
       " <re.Match object; span=(98, 101), match='xls'>,\n",
       " <re.Match object; span=(98, 101), match='xls'>,\n",
       " <re.Match object; span=(98, 101), match='xls'>,\n",
       " <re.Match object; span=(98, 101), match='xls'>,\n",
       " <re.Match object; span=(98, 101), match='xls'>,\n",
       " <re.Match object; span=(98, 101), match='xls'>,\n",
       " <re.Match object; span=(98, 101), match='xls'>,\n",
       " <re.Match object; span=(98, 101), match='xls'>,\n",
       " <re.Match object; span=(98, 101), match='xls'>,\n",
       " <re.Match object; span=(98, 101), match='xls'>,\n",
       " <re.Match object; span=(98, 101), match='xls'>,\n",
       " None,\n",
       " None,\n",
       " None,\n",
       " None,\n",
       " None,\n",
       " None,\n",
       " None,\n",
       " None,\n",
       " None,\n",
       " None,\n",
       " None]"
      ]
     },
     "execution_count": 16,
     "metadata": {},
     "output_type": "execute_result"
    }
   ],
   "source": [
    "pattern = re.compile('(xls)')\n",
    "matches = list()\n",
    "for i in range(0,len(links)):\n",
    "    matches.append(pattern.search(links[i]))\n",
    "matches"
   ]
  },
  {
   "cell_type": "code",
   "execution_count": 17,
   "metadata": {},
   "outputs": [],
   "source": [
    "indexes = list()\n",
    "for i in range(0,len(matches)):\n",
    "    if matches[i] != 'None':\n",
    "        indexes.append(matches.index(matches[i]))"
   ]
  },
  {
   "cell_type": "code",
   "execution_count": 18,
   "metadata": {},
   "outputs": [
    {
     "data": {
      "text/plain": [
       "['https://dgsaie.mise.gov.it/pub/consumi_petroliferi/preconsuntivi/2020/Consumi_Petrolio_2020_03.xls',\n",
       " 'https://dgsaie.mise.gov.it/pub/consumi_petroliferi/preconsuntivi/2020/Consumi_Petrolio_2020_02.xls',\n",
       " 'https://dgsaie.mise.gov.it/pub/consumi_petroliferi/preconsuntivi/2020/Consumi_Petrolio_2020_01.xls',\n",
       " 'https://dgsaie.mise.gov.it/pub/consumi_petroliferi/preconsuntivi/2019/Consumi_Petrolio_2019_12.xls',\n",
       " 'https://dgsaie.mise.gov.it/pub/consumi_petroliferi/preconsuntivi/2019/Consumi_Petrolio_2019_11.xls',\n",
       " 'https://dgsaie.mise.gov.it/pub/consumi_petroliferi/preconsuntivi/2019/Consumi_Petrolio_2019_10.xls',\n",
       " 'https://dgsaie.mise.gov.it/pub/consumi_petroliferi/preconsuntivi/2019/Consumi_Petrolio_2019_09.xls',\n",
       " 'https://dgsaie.mise.gov.it/pub/consumi_petroliferi/preconsuntivi/2019/Consumi_Petrolio_2019_08.xls',\n",
       " 'https://dgsaie.mise.gov.it/pub/consumi_petroliferi/preconsuntivi/2019/Consumi_Petrolio_2019_07.xls',\n",
       " 'https://dgsaie.mise.gov.it/pub/consumi_petroliferi/preconsuntivi/2019/Consumi_Petrolio_2019_06.xls',\n",
       " 'https://dgsaie.mise.gov.it/pub/consumi_petroliferi/preconsuntivi/2019/Consumi_Petrolio_2019_05.xls',\n",
       " 'https://dgsaie.mise.gov.it/pub/consumi_petroliferi/preconsuntivi/2019/Consumi_Petrolio_2019_04.xlsx',\n",
       " 'https://dgsaie.mise.gov.it/pub/consumi_petroliferi/preconsuntivi/2019/Consumi_Petrolio_2019_03.xls',\n",
       " 'https://dgsaie.mise.gov.it/pub/consumi_petroliferi/preconsuntivi/2019/Consumi_Petrolio_2019_02.xls',\n",
       " 'https://dgsaie.mise.gov.it/pub/consumi_petroliferi/preconsuntivi/2019/Consumi_Petrolio_2019_01.xls',\n",
       " 'https://dgsaie.mise.gov.it/pub/consumi_petroliferi/definitivi/Consumi_Petroliferi_Definitivi_2018.xls',\n",
       " 'https://dgsaie.mise.gov.it/pub/consumi_petroliferi/definitivi/Consumi_Petroliferi_Definitivi_2017.xls',\n",
       " 'https://dgsaie.mise.gov.it/pub/consumi_petroliferi/definitivi/Consumi_Petroliferi_Definitivi_2016.xls',\n",
       " 'https://dgsaie.mise.gov.it/pub/consumi_petroliferi/definitivi/Consumi_Petroliferi_Definitivi_2015.xls',\n",
       " 'https://dgsaie.mise.gov.it/pub/consumi_petroliferi/definitivi/Consumi_Petroliferi_Definitivi_2014.xls',\n",
       " 'https://dgsaie.mise.gov.it/pub/consumi_petroliferi/definitivi/Consumi_Petroliferi_Definitivi_2013.xls',\n",
       " 'https://dgsaie.mise.gov.it/pub/consumi_petroliferi/definitivi/Consumi_Petroliferi_Definitivi_2012.xls',\n",
       " 'https://dgsaie.mise.gov.it/pub/consumi_petroliferi/definitivi/Consumi_Petroliferi_Definitivi_2011.xls',\n",
       " 'https://dgsaie.mise.gov.it/pub/consumi_petroliferi/definitivi/Consumi_Petroliferi_Definitivi_2010.xls',\n",
       " 'https://dgsaie.mise.gov.it/pub/consumi_petroliferi/definitivi/Consumi_Petroliferi_Definitivi_2009.xls',\n",
       " 'https://dgsaie.mise.gov.it/pub/consumi_petroliferi/definitivi/Consumi_Petroliferi_Definitivi_2008.xls',\n",
       " 'https://dgsaie.mise.gov.it/pub/consumi_petroliferi/definitivi/Consumi_Petroliferi_Definitivi_2007.xls',\n",
       " 'https://dgsaie.mise.gov.it/pub/consumi_petroliferi/definitivi/Consumi_Petroliferi_Definitivi_2006.xls',\n",
       " 'https://dgsaie.mise.gov.it/pub/consumi_petroliferi/definitivi/Consumi_Petroliferi_Definitivi_2005.xls',\n",
       " 'https://dgsaie.mise.gov.it/pub/consumi_petroliferi/definitivi/Consumi_Petroliferi_Definitivi_2004.xls',\n",
       " 'https://dgsaie.mise.gov.it/pub/consumi_petroliferi/definitivi/Consumi_Petroliferi_Definitivi_2003.xls',\n",
       " 'https://dgsaie.mise.gov.it/pub/consumi_petroliferi/definitivi/Consumi_Petroliferi_Definitivi_2002.xls']"
      ]
     },
     "execution_count": 18,
     "metadata": {},
     "output_type": "execute_result"
    }
   ],
   "source": [
    "xlsLinks = list()\n",
    "for index in indexes:\n",
    "    if index != 0:\n",
    "        xlsLinks.append(links[index])\n",
    "xlsLinks"
   ]
  },
  {
   "cell_type": "code",
   "execution_count": 19,
   "metadata": {},
   "outputs": [],
   "source": [
    "with open('mise_link.txt', 'w') as file_object:\n",
    "    for url in xlsLinks:\n",
    "        file_object.write(url + '\\n')"
   ]
  },
  {
   "cell_type": "code",
   "execution_count": 16,
   "metadata": {},
   "outputs": [
    {
     "ename": "IsADirectoryError",
     "evalue": "[Errno 21] Is a directory: '/Users/simonetta/Desktop/Projects/nowcasting-prod-ind/mise/'",
     "output_type": "error",
     "traceback": [
      "\u001b[0;31m---------------------------------------------------------------------------\u001b[0m",
      "\u001b[0;31mIsADirectoryError\u001b[0m                         Traceback (most recent call last)",
      "\u001b[0;32m<ipython-input-16-ec0b1087d558>\u001b[0m in \u001b[0;36m<module>\u001b[0;34m\u001b[0m\n\u001b[1;32m      1\u001b[0m \u001b[0;32mfor\u001b[0m \u001b[0murl\u001b[0m \u001b[0;32min\u001b[0m \u001b[0mlinks\u001b[0m\u001b[0;34m:\u001b[0m\u001b[0;34m\u001b[0m\u001b[0;34m\u001b[0m\u001b[0m\n\u001b[0;32m----> 2\u001b[0;31m     \u001b[0murllib\u001b[0m\u001b[0;34m.\u001b[0m\u001b[0mrequest\u001b[0m\u001b[0;34m.\u001b[0m\u001b[0murlretrieve\u001b[0m\u001b[0;34m(\u001b[0m\u001b[0mlink\u001b[0m\u001b[0;34m,\u001b[0m \u001b[0;34m'/Users/simonetta/Desktop/Projects/nowcasting-prod-ind/mise/'\u001b[0m\u001b[0;34m)\u001b[0m\u001b[0;34m\u001b[0m\u001b[0;34m\u001b[0m\u001b[0m\n\u001b[0m",
      "\u001b[0;32m~/opt/anaconda3/envs/scraping/lib/python3.8/urllib/request.py\u001b[0m in \u001b[0;36murlretrieve\u001b[0;34m(url, filename, reporthook, data)\u001b[0m\n\u001b[1;32m    255\u001b[0m         \u001b[0;31m# Handle temporary file setup.\u001b[0m\u001b[0;34m\u001b[0m\u001b[0;34m\u001b[0m\u001b[0;34m\u001b[0m\u001b[0m\n\u001b[1;32m    256\u001b[0m         \u001b[0;32mif\u001b[0m \u001b[0mfilename\u001b[0m\u001b[0;34m:\u001b[0m\u001b[0;34m\u001b[0m\u001b[0;34m\u001b[0m\u001b[0m\n\u001b[0;32m--> 257\u001b[0;31m             \u001b[0mtfp\u001b[0m \u001b[0;34m=\u001b[0m \u001b[0mopen\u001b[0m\u001b[0;34m(\u001b[0m\u001b[0mfilename\u001b[0m\u001b[0;34m,\u001b[0m \u001b[0;34m'wb'\u001b[0m\u001b[0;34m)\u001b[0m\u001b[0;34m\u001b[0m\u001b[0;34m\u001b[0m\u001b[0m\n\u001b[0m\u001b[1;32m    258\u001b[0m         \u001b[0;32melse\u001b[0m\u001b[0;34m:\u001b[0m\u001b[0;34m\u001b[0m\u001b[0;34m\u001b[0m\u001b[0m\n\u001b[1;32m    259\u001b[0m             \u001b[0mtfp\u001b[0m \u001b[0;34m=\u001b[0m \u001b[0mtempfile\u001b[0m\u001b[0;34m.\u001b[0m\u001b[0mNamedTemporaryFile\u001b[0m\u001b[0;34m(\u001b[0m\u001b[0mdelete\u001b[0m\u001b[0;34m=\u001b[0m\u001b[0;32mFalse\u001b[0m\u001b[0;34m)\u001b[0m\u001b[0;34m\u001b[0m\u001b[0;34m\u001b[0m\u001b[0m\n",
      "\u001b[0;31mIsADirectoryError\u001b[0m: [Errno 21] Is a directory: '/Users/simonetta/Desktop/Projects/nowcasting-prod-ind/mise/'"
     ]
    }
   ],
   "source": [
    "for url in xlsLinks:\n",
    "    urllib.request.urlretrieve(url, '/Users/Simonetta/nowcasting-prod-ind/mise/')"
   ]
  },
  {
   "cell_type": "code",
   "execution_count": null,
   "metadata": {},
   "outputs": [],
   "source": []
  },
  {
   "cell_type": "code",
   "execution_count": null,
   "metadata": {},
   "outputs": [],
   "source": [
    "%%bash\n",
    "wget -i mise_link.txt"
   ]
  }
 ],
 "metadata": {
  "kernelspec": {
   "display_name": "Python 3",
   "language": "python",
   "name": "python3"
  },
  "language_info": {
   "codemirror_mode": {
    "name": "ipython",
    "version": 3
   },
   "file_extension": ".py",
   "mimetype": "text/x-python",
   "name": "python",
   "nbconvert_exporter": "python",
   "pygments_lexer": "ipython3",
   "version": "3.8.2"
  }
 },
 "nbformat": 4,
 "nbformat_minor": 2
}
