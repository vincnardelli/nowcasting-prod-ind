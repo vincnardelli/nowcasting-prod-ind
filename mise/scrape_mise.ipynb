{
 "cells": [
  {
   "cell_type": "code",
   "execution_count": 1,
   "metadata": {},
   "outputs": [],
   "source": [
    "import requests\n",
    "import bs4\n",
    "import re\n",
    "import os\n",
    "res = requests.get(\"https://dgsaie.mise.gov.it/consumi_petroliferi.php\")\n",
    "res.raise_for_status()\n",
    "mise = bs4.BeautifulSoup(res.text, \"lxml\")"
   ]
  },
  {
   "cell_type": "code",
   "execution_count": 2,
   "metadata": {},
   "outputs": [],
   "source": [
    "links = list()\n",
    "for link in mise.find_all('a', href = True):\n",
    "    links.append(link.get('href'))"
   ]
  },
  {
   "cell_type": "code",
   "execution_count": 3,
   "metadata": {},
   "outputs": [],
   "source": [
    "pattern = re.compile('(xls)')\n",
    "matches = list()\n",
    "for i in range(0,len(links)):\n",
    "    matches.append(pattern.search(links[i]))"
   ]
  },
  {
   "cell_type": "code",
   "execution_count": 4,
   "metadata": {},
   "outputs": [
    {
     "data": {
      "text/plain": [
       "[0,\n",
       " 0,\n",
       " 0,\n",
       " 0,\n",
       " 0,\n",
       " 0,\n",
       " 0,\n",
       " 0,\n",
       " 0,\n",
       " 0,\n",
       " 0,\n",
       " 0,\n",
       " 0,\n",
       " 0,\n",
       " 0,\n",
       " 0,\n",
       " 0,\n",
       " 0,\n",
       " 0,\n",
       " 0,\n",
       " 0,\n",
       " 0,\n",
       " 0,\n",
       " 0,\n",
       " 24,\n",
       " 25,\n",
       " 26,\n",
       " 27,\n",
       " 28,\n",
       " 29,\n",
       " 30,\n",
       " 31,\n",
       " 32,\n",
       " 33,\n",
       " 34,\n",
       " 35,\n",
       " 36,\n",
       " 37,\n",
       " 38,\n",
       " 0,\n",
       " 40,\n",
       " 41,\n",
       " 42,\n",
       " 43,\n",
       " 44,\n",
       " 45,\n",
       " 46,\n",
       " 47,\n",
       " 48,\n",
       " 49,\n",
       " 50,\n",
       " 51,\n",
       " 52,\n",
       " 53,\n",
       " 54,\n",
       " 55,\n",
       " 56,\n",
       " 0,\n",
       " 0,\n",
       " 0,\n",
       " 0,\n",
       " 0,\n",
       " 0,\n",
       " 0,\n",
       " 0,\n",
       " 0,\n",
       " 0,\n",
       " 0]"
      ]
     },
     "execution_count": 4,
     "metadata": {},
     "output_type": "execute_result"
    }
   ],
   "source": [
    "indexes = list()\n",
    "for i in range(0,len(matches)):\n",
    "    if matches[i] != 'None':\n",
    "        indexes.append(matches.index(matches[i]))\n",
    "indexes"
   ]
  },
  {
   "cell_type": "code",
   "execution_count": 5,
   "metadata": {},
   "outputs": [
    {
     "data": {
      "text/plain": [
       "['https://dgsaie.mise.gov.it/pub/consumi_petroliferi/preconsuntivi/2020/Consumi_Petrolio_2020_03.xls',\n",
       " 'https://dgsaie.mise.gov.it/pub/consumi_petroliferi/preconsuntivi/2020/Consumi_Petrolio_2020_02.xls',\n",
       " 'https://dgsaie.mise.gov.it/pub/consumi_petroliferi/preconsuntivi/2020/Consumi_Petrolio_2020_01.xls',\n",
       " 'https://dgsaie.mise.gov.it/pub/consumi_petroliferi/preconsuntivi/2019/Consumi_Petrolio_2019_12.xls',\n",
       " 'https://dgsaie.mise.gov.it/pub/consumi_petroliferi/preconsuntivi/2019/Consumi_Petrolio_2019_11.xls',\n",
       " 'https://dgsaie.mise.gov.it/pub/consumi_petroliferi/preconsuntivi/2019/Consumi_Petrolio_2019_10.xls',\n",
       " 'https://dgsaie.mise.gov.it/pub/consumi_petroliferi/preconsuntivi/2019/Consumi_Petrolio_2019_09.xls',\n",
       " 'https://dgsaie.mise.gov.it/pub/consumi_petroliferi/preconsuntivi/2019/Consumi_Petrolio_2019_08.xls',\n",
       " 'https://dgsaie.mise.gov.it/pub/consumi_petroliferi/preconsuntivi/2019/Consumi_Petrolio_2019_07.xls',\n",
       " 'https://dgsaie.mise.gov.it/pub/consumi_petroliferi/preconsuntivi/2019/Consumi_Petrolio_2019_06.xls',\n",
       " 'https://dgsaie.mise.gov.it/pub/consumi_petroliferi/preconsuntivi/2019/Consumi_Petrolio_2019_05.xls',\n",
       " 'https://dgsaie.mise.gov.it/pub/consumi_petroliferi/preconsuntivi/2019/Consumi_Petrolio_2019_04.xlsx',\n",
       " 'https://dgsaie.mise.gov.it/pub/consumi_petroliferi/preconsuntivi/2019/Consumi_Petrolio_2019_03.xls',\n",
       " 'https://dgsaie.mise.gov.it/pub/consumi_petroliferi/preconsuntivi/2019/Consumi_Petrolio_2019_02.xls',\n",
       " 'https://dgsaie.mise.gov.it/pub/consumi_petroliferi/preconsuntivi/2019/Consumi_Petrolio_2019_01.xls',\n",
       " 'https://dgsaie.mise.gov.it/pub/consumi_petroliferi/definitivi/Consumi_Petroliferi_Definitivi_2018.xls',\n",
       " 'https://dgsaie.mise.gov.it/pub/consumi_petroliferi/definitivi/Consumi_Petroliferi_Definitivi_2017.xls',\n",
       " 'https://dgsaie.mise.gov.it/pub/consumi_petroliferi/definitivi/Consumi_Petroliferi_Definitivi_2016.xls',\n",
       " 'https://dgsaie.mise.gov.it/pub/consumi_petroliferi/definitivi/Consumi_Petroliferi_Definitivi_2015.xls',\n",
       " 'https://dgsaie.mise.gov.it/pub/consumi_petroliferi/definitivi/Consumi_Petroliferi_Definitivi_2014.xls',\n",
       " 'https://dgsaie.mise.gov.it/pub/consumi_petroliferi/definitivi/Consumi_Petroliferi_Definitivi_2013.xls',\n",
       " 'https://dgsaie.mise.gov.it/pub/consumi_petroliferi/definitivi/Consumi_Petroliferi_Definitivi_2012.xls',\n",
       " 'https://dgsaie.mise.gov.it/pub/consumi_petroliferi/definitivi/Consumi_Petroliferi_Definitivi_2011.xls',\n",
       " 'https://dgsaie.mise.gov.it/pub/consumi_petroliferi/definitivi/Consumi_Petroliferi_Definitivi_2010.xls',\n",
       " 'https://dgsaie.mise.gov.it/pub/consumi_petroliferi/definitivi/Consumi_Petroliferi_Definitivi_2009.xls',\n",
       " 'https://dgsaie.mise.gov.it/pub/consumi_petroliferi/definitivi/Consumi_Petroliferi_Definitivi_2008.xls',\n",
       " 'https://dgsaie.mise.gov.it/pub/consumi_petroliferi/definitivi/Consumi_Petroliferi_Definitivi_2007.xls',\n",
       " 'https://dgsaie.mise.gov.it/pub/consumi_petroliferi/definitivi/Consumi_Petroliferi_Definitivi_2006.xls',\n",
       " 'https://dgsaie.mise.gov.it/pub/consumi_petroliferi/definitivi/Consumi_Petroliferi_Definitivi_2005.xls',\n",
       " 'https://dgsaie.mise.gov.it/pub/consumi_petroliferi/definitivi/Consumi_Petroliferi_Definitivi_2004.xls',\n",
       " 'https://dgsaie.mise.gov.it/pub/consumi_petroliferi/definitivi/Consumi_Petroliferi_Definitivi_2003.xls',\n",
       " 'https://dgsaie.mise.gov.it/pub/consumi_petroliferi/definitivi/Consumi_Petroliferi_Definitivi_2002.xls']"
      ]
     },
     "execution_count": 5,
     "metadata": {},
     "output_type": "execute_result"
    }
   ],
   "source": [
    "xlsLinks = list()\n",
    "for index in indexes:\n",
    "    if index != 0:\n",
    "        xlsLinks.append(links[index])\n",
    "xlsLinks"
   ]
  },
  {
   "cell_type": "code",
   "execution_count": 6,
   "metadata": {},
   "outputs": [],
   "source": [
    "with open('mise_link.txt', 'w') as file_object:\n",
    "    for url in xlsLinks:\n",
    "        file_object.write(url + '\\n')"
   ]
  },
  {
   "cell_type": "code",
   "execution_count": null,
   "metadata": {},
   "outputs": [],
   "source": [
    "for url in xlsLinks:\n",
    "    urllib.request.urlretrieve(url, '/Users/Andrea/nowcasting-prod-ind/mise/')"
   ]
  },
  {
   "cell_type": "code",
   "execution_count": null,
   "metadata": {},
   "outputs": [],
   "source": [
    "%%bash\n",
    "wget -i mise_link.txt"
   ]
  }
 ],
 "metadata": {
  "kernelspec": {
   "display_name": "Python 3",
   "language": "python",
   "name": "python3"
  },
  "language_info": {
   "codemirror_mode": {
    "name": "ipython",
    "version": 3
   },
   "file_extension": ".py",
   "mimetype": "text/x-python",
   "name": "python",
   "nbconvert_exporter": "python",
   "pygments_lexer": "ipython3",
   "version": "3.7.4"
  }
 },
 "nbformat": 4,
 "nbformat_minor": 2
}
